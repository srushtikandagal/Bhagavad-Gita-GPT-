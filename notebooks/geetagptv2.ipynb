{
 "cells": [
  {
   "cell_type": "code",
   "execution_count": 2,
   "metadata": {},
   "outputs": [
    {
     "data": {
      "text/plain": [
       "True"
      ]
     },
     "execution_count": 2,
     "metadata": {},
     "output_type": "execute_result"
    }
   ],
   "source": [
    "import os\n",
    "import re\n",
    "from dotenv import load_dotenv\n",
    "from langchain_core.prompts import ChatPromptTemplate\n",
    "from langchain_community.document_loaders import PyPDFLoader\n",
    "from langchain_text_splitters import RecursiveCharacterTextSplitter\n",
    "from langchain_groq import ChatGroq\n",
    "from langchain_community.vectorstores import FAISS\n",
    "import streamlit as st\n",
    "from langchain_huggingface import HuggingFaceEmbeddings\n",
    "from langchain.chains.combine_documents import create_stuff_documents_chain\n",
    "from langchain.chains import create_retrieval_chain\n",
    "load_dotenv()"
   ]
  },
  {
   "cell_type": "code",
   "execution_count": 3,
   "metadata": {},
   "outputs": [],
   "source": [
    "huggingface_key = os.getenv(\"HUGGINGFACE_APIKEY\")\n",
    "os.environ[\"GROQ_API_KEY\"] = os.getenv(\"GROQ_API_KEY\")\n",
    "os.environ[\"LANGCHAIN_API_KEY\"] = os.getenv(\"LANGCHAIN_API_KEY\")"
   ]
  },
  {
   "cell_type": "code",
   "execution_count": 4,
   "metadata": {},
   "outputs": [],
   "source": [
    "# doc = PyPDFLoader(\"/home/skynet/Documents/Gen_ai/GeetaGpt/data/bhagvatgeeta.pdf\").load()"
   ]
  },
  {
   "cell_type": "code",
   "execution_count": 5,
   "metadata": {},
   "outputs": [],
   "source": [
    "\n",
    "# def clean_text(text):\n",
    "#     \"\"\"Cleans the text by removing common escape sequences and unnecessary characters.\"\"\"\n",
    "#     # Remove common escape sequences (adjust as needed)\n",
    "#     cleaned_text = re.sub(\n",
    "#         r\"[\\x00-\\x1F\\x7F]\", \" \", text\n",
    "#     )  # Removes control characters and replaces them with spaces\n",
    "#     cleaned_text = re.sub(\n",
    "#         r\"\\u200b\", \" \", cleaned_text\n",
    "#     )  # Removes zero-width space and replaces it with a space\n",
    "\n",
    "#     # Remove excessive whitespace\n",
    "#     cleaned_text = re.sub(r\"\\s+\", \" \", cleaned_text)\n",
    "\n",
    "#     return cleaned_text"
   ]
  },
  {
   "cell_type": "code",
   "execution_count": 6,
   "metadata": {},
   "outputs": [],
   "source": [
    "# for document in doc:\n",
    "#     document.page_content = clean_text(document.page_content)"
   ]
  },
  {
   "cell_type": "code",
   "execution_count": 7,
   "metadata": {},
   "outputs": [],
   "source": [
    "# # remove empty pages\n",
    "# doc = [document for document in doc if document.page_content]"
   ]
  },
  {
   "cell_type": "code",
   "execution_count": 8,
   "metadata": {},
   "outputs": [],
   "source": [
    "# corpus = RecursiveCharacterTextSplitter(\n",
    "#     chunk_size=1024, chunk_overlap=200\n",
    "# ).split_documents(\n",
    "#     doc\n",
    "# )"
   ]
  },
  {
   "cell_type": "code",
   "execution_count": 9,
   "metadata": {},
   "outputs": [
    {
     "name": "stderr",
     "output_type": "stream",
     "text": [
      "/home/skynet/miniforge3/envs/geetagpt_weaviate/lib/python3.10/site-packages/sentence_transformers/cross_encoder/CrossEncoder.py:11: TqdmExperimentalWarning: Using `tqdm.autonotebook.tqdm` in notebook mode. Use `tqdm.tqdm` instead to force console mode (e.g. in jupyter console)\n",
      "  from tqdm.autonotebook import tqdm, trange\n",
      "/home/skynet/miniforge3/envs/geetagpt_weaviate/lib/python3.10/site-packages/transformers/tokenization_utils_base.py:1601: FutureWarning: `clean_up_tokenization_spaces` was not set. It will be set to `True` by default. This behavior will be depracted in transformers v4.45, and will be then set to `False` by default. For more details check this issue: https://github.com/huggingface/transformers/issues/31884\n",
      "  warnings.warn(\n"
     ]
    }
   ],
   "source": [
    "embeddings = HuggingFaceEmbeddings(model_name=\"sentence-transformers/all-MiniLM-L6-v2\")"
   ]
  },
  {
   "cell_type": "code",
   "execution_count": 10,
   "metadata": {},
   "outputs": [],
   "source": [
    "# db = FAISS.from_documents(corpus, embeddings)"
   ]
  },
  {
   "cell_type": "code",
   "execution_count": 11,
   "metadata": {},
   "outputs": [],
   "source": [
    "# db.save_local(\"bhagvatgeeta_new\")"
   ]
  },
  {
   "cell_type": "code",
   "execution_count": 12,
   "metadata": {},
   "outputs": [],
   "source": [
    "db = FAISS.load_local(\"bhagvatgeeta_new\",embeddings=embeddings,allow_dangerous_deserialization=True)"
   ]
  },
  {
   "cell_type": "code",
   "execution_count": null,
   "metadata": {},
   "outputs": [],
   "source": []
  },
  {
   "cell_type": "code",
   "execution_count": 14,
   "metadata": {},
   "outputs": [],
   "source": [
    "retriver = db.as_retriever()"
   ]
  },
  {
   "cell_type": "code",
   "execution_count": 15,
   "metadata": {},
   "outputs": [
    {
     "data": {
      "text/plain": [
       "VectorStoreRetriever(tags=['FAISS', 'HuggingFaceEmbeddings'], vectorstore=<langchain_community.vectorstores.faiss.FAISS object at 0x7f129a7a9900>)"
      ]
     },
     "execution_count": 15,
     "metadata": {},
     "output_type": "execute_result"
    }
   ],
   "source": [
    "retriver"
   ]
  },
  {
   "cell_type": "code",
   "execution_count": 16,
   "metadata": {},
   "outputs": [],
   "source": [
    "prompt_template = \"\"\"\n",
    "\n",
    "    Task: Answer questions based on the Bhagavad Gita teachings, incorporating the provided context.\n",
    "\n",
    "    Instructions:\n",
    "\n",
    "        Retrieve relevant information: Search the Bhagavad Gita for passages that are most relevant to the query, considering both the query itself and the provided context.\n",
    "        Summarize key points: Extract the main ideas and concepts from the retrieved passages, taking into account the context for a more nuanced understanding.\n",
    "        Generate a comprehensive response: Combine the summarized information with the query and context to create a coherent and informative answer.\n",
    "        Mention references: Clearly indicate the chapter and verse numbers from which the information is extracted.\n",
    "        Mention Sholkas: Clearly include relevant shlokas from the Gita to support your response.\n",
    "        Provide accurate information: Ensure that the information provided is accurate and consistent with the teachings of the Gita, considering the context.\n",
    "        Translate: Provide translations of the shlokas in Hindi to help explain their meaning.\n",
    "        Stay focused: Keep your response focused on the query, considering both the Gita's teachings and the provided context.\n",
    "        Be concise: Provide a clear and concise response that addresses the query effectively.\n",
    "\n",
    "    Guidelines:\n",
    "\n",
    "        Stay true to the text: Ensure that your responses are consistent with the teachings of the Bhagavad Gita.\n",
    "        Provide context: If applicable, provide additional context from the Gita to support your answer, considering the provided context.\n",
    "        Be respectful: Maintain a respectful and reverent tone when answering questions about the Bhagavad Gita.\n",
    "        Be concise: Provide clear and concise responses that address the query directly.\n",
    "        Stay focused: Ensure that your response is directly related to the Bhagavad Gita and avoids unrelated and out-of-context topics.\n",
    "        Answering Style: Start with \"Jai Shri Krishna\" and end with \"Jai Shri Krishna\" in your answer.\n",
    "        Out of scope: Avoid providing personal opinions or interpretations that are not supported by the text of the Gita.\n",
    "        Out of Context: Avoid providing information that is not directly related to the query or the teachings of the Gita, considering the provided context.\n",
    "        Inaccurate Information: Avoid providing information that is inaccurate or inconsistent with the teachings of the Gita.\n",
    "        Not Sure: If you don't know the answer: Say \"Jai Shri Krishna! I'm not sure, would you like me to look it up?\"\n",
    "\n",
    "    Context:\n",
    "    {context}\n",
    "    \"\"\""
   ]
  },
  {
   "cell_type": "code",
   "execution_count": 17,
   "metadata": {},
   "outputs": [],
   "source": [
    "new_prompt = ChatPromptTemplate([prompt_template])"
   ]
  },
  {
   "cell_type": "code",
   "execution_count": 18,
   "metadata": {},
   "outputs": [],
   "source": [
    "from langchain.callbacks.streaming_stdout import StreamingStdOutCallbackHandler\n",
    "model = ChatGroq(model=\"gemma2-9b-it\", max_tokens=4050,callbacks=[StreamingStdOutCallbackHandler()])"
   ]
  },
  {
   "cell_type": "code",
   "execution_count": 19,
   "metadata": {},
   "outputs": [],
   "source": [
    "chain = create_stuff_documents_chain(model,new_prompt)"
   ]
  },
  {
   "cell_type": "code",
   "execution_count": 20,
   "metadata": {},
   "outputs": [],
   "source": [
    "retrieval_chain = create_retrieval_chain(retriver, chain)"
   ]
  },
  {
   "cell_type": "code",
   "execution_count": 25,
   "metadata": {},
   "outputs": [
    {
     "data": {
      "text/plain": [
       "'Jai Shri Krishna! \\n\\nThe provided text highlights the importance of understanding the Bhagavad Gita in its purest form, as taught by Lord Krishna to Arjuna. \\n\\nThe text states: \"If someone is fortunate enough to understand Bhagavad-gītā in that line of disciplic succession, without motivated interpretation, then he surpasses all studies of Vedic wisdom, and all scriptures of the world.\" (Bhagavad Gita As It Is, Purport)\\n\\nThis emphasizes the need for a genuine and unadulterated understanding of the Gita, passed down through a lineage of teachers (disciplic succession), free from personal biases or interpretations. \\n\\nThe text further states that the Bhagavad Gita is the essence of Vedic wisdom and contains truths not found elsewhere.  \\n\\nIt is considered the perfect theistic science because it is directly spoken by Lord Krishna himself.\\n\\nJai Shri Krishna! \\n'"
      ]
     },
     "execution_count": 25,
     "metadata": {},
     "output_type": "execute_result"
    }
   ],
   "source": [
    "retrieval_chain.invoke({'input':'What is the Bhagavad Gita?'})['answer']"
   ]
  },
  {
   "cell_type": "code",
   "execution_count": 26,
   "metadata": {},
   "outputs": [],
   "source": []
  },
  {
   "cell_type": "code",
   "execution_count": 30,
   "metadata": {},
   "outputs": [],
   "source": []
  },
  {
   "cell_type": "code",
   "execution_count": 31,
   "metadata": {},
   "outputs": [
    {
     "data": {
      "text/plain": [
       "'/home/skynet/Documents/Gen_ai/GeetaGpt/notebooks/bhagvatgeeta_new'"
      ]
     },
     "execution_count": 31,
     "metadata": {},
     "output_type": "execute_result"
    }
   ],
   "source": []
  }
 ],
 "metadata": {
  "kernelspec": {
   "display_name": "geetagpt",
   "language": "python",
   "name": "python3"
  },
  "language_info": {
   "codemirror_mode": {
    "name": "ipython",
    "version": 3
   },
   "file_extension": ".py",
   "mimetype": "text/x-python",
   "name": "python",
   "nbconvert_exporter": "python",
   "pygments_lexer": "ipython3",
   "version": "3.10.14"
  }
 },
 "nbformat": 4,
 "nbformat_minor": 2
}
