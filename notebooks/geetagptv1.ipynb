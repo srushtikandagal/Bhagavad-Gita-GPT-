{
 "cells": [
  {
   "cell_type": "code",
   "execution_count": 1,
   "metadata": {},
   "outputs": [],
   "source": [
    "import os\n",
    "from groq import Groq\n",
    "from dotenv import load_dotenv\n",
    "load_dotenv()\n",
    "from langchain import hub\n",
    "from langchain_core.prompts import ChatPromptTemplate\n",
    "from langchain_community.document_loaders import PyPDFLoader\n",
    "from langchain_text_splitters import RecursiveCharacterTextSplitter\n",
    "from langchain_core.output_parsers import StrOutputParser\n",
    "from langchain_ollama.llms import OllamaLLM\n",
    "from langchain_groq import ChatGroq\n",
    "from langchain_ollama.embeddings import OllamaEmbeddings\n",
    "from langchain_community.vectorstores import FAISS\n",
    "from langchain import hub\n",
    "from langchain_core.runnables import RunnablePassthrough\n",
    "import streamlit as st"
   ]
  },
  {
   "cell_type": "code",
   "execution_count": 2,
   "metadata": {},
   "outputs": [],
   "source": [
    "os.environ['GROQ_API_KEY'] = os.getenv('GROQ_API_KEY')\n",
    "os.environ[\"LANGCHAIN_API_KEY\"] = os.getenv(\"LANGCHAIN_API_KEY\")"
   ]
  },
  {
   "cell_type": "code",
   "execution_count": 3,
   "metadata": {},
   "outputs": [],
   "source": [
    "# docs = PyPDFLoader(\"/home/skynet/Documents/Gen_ai/GeetaGpt/data/bhagvatgeeta.pdf\").load()"
   ]
  },
  {
   "cell_type": "code",
   "execution_count": 4,
   "metadata": {},
   "outputs": [],
   "source": [
    "# splitter = RecursiveCharacterTextSplitter(chunk_size=8100,chunk_overlap=2000)"
   ]
  },
  {
   "cell_type": "code",
   "execution_count": 5,
   "metadata": {},
   "outputs": [],
   "source": [
    "# corpus = splitter.split_documents(data)"
   ]
  },
  {
   "cell_type": "code",
   "execution_count": 6,
   "metadata": {},
   "outputs": [],
   "source": [
    "model = ChatGroq(model=\"gemma2-9b-it\",max_tokens=4050)\n",
    "llm = OllamaLLM(model=\"gemma2:9b\")\n",
    "embeddings = OllamaEmbeddings(model=\"gemma2:9b\")"
   ]
  },
  {
   "cell_type": "code",
   "execution_count": 7,
   "metadata": {},
   "outputs": [],
   "source": [
    "# db = FAISS.from_documents(corpus, embeddings)"
   ]
  },
  {
   "cell_type": "code",
   "execution_count": 8,
   "metadata": {},
   "outputs": [],
   "source": [
    "# db.save_local(\"bhagvatgeeta_faiss\")"
   ]
  },
  {
   "cell_type": "code",
   "execution_count": 9,
   "metadata": {},
   "outputs": [],
   "source": [
    "db = FAISS.load_local(\"bhagvatgeeta_faiss\",embeddings=embeddings,allow_dangerous_deserialization=True)"
   ]
  },
  {
   "cell_type": "code",
   "execution_count": 10,
   "metadata": {},
   "outputs": [],
   "source": [
    "# query = \"What is the meaning of life?\"\n",
    "# results = db.similarity_search(query, k=1)"
   ]
  },
  {
   "cell_type": "code",
   "execution_count": 11,
   "metadata": {},
   "outputs": [],
   "source": [
    "retriever = db.as_retriever()\n",
    "# prompt = hub.pull('rlm/rag-prompt')"
   ]
  },
  {
   "cell_type": "code",
   "execution_count": 12,
   "metadata": {},
   "outputs": [],
   "source": []
  },
  {
   "cell_type": "code",
   "execution_count": 54,
   "metadata": {},
   "outputs": [],
   "source": [
    "prompt_template = \"\"\"\n",
    "Prompt:\n",
    "\n",
    "    Task: Answer questions based on the Bhagavad Gita teachings.\n",
    "\n",
    "    Instructions:\n",
    "\n",
    "        Retrieve relevant information: Search the Bhagavad Gita for passages that are most relevant to the query.\n",
    "        Summarize key points: Extract the main ideas and concepts from the retrieved passages.\n",
    "        Generate a comprehensive response: Combine the summarized information with the query to create a coherent and informative answer.\n",
    "        Mention references: Clearly indicate the chapter and verse numbers from which the information is extracted.\n",
    "        Mention Sholkas: Clearly include relevant shlokas from the Gita to support your response.\n",
    "        Provide accurate information: Ensure that the information provided is accurate and consistent with the teachings of the Gita.\n",
    "        Translate: Provide translations of the shlokas in Hindi to help explain their meaning.\n",
    "        Stay focused: Keep your response focused on the query and avoid irrelevant information.\n",
    "        Be concise: Provide a clear and concise response that addresses the query effectively.\n",
    "\n",
    "\n",
    "    Guidelines:\n",
    "\n",
    "        Stay true to the text: Ensure that your responses are consistent with the teachings of the Bhagavad Gita.\n",
    "        Provide context: If applicable, provide additional context from the Gita to support your answer.\n",
    "        Be respectful: Maintain a respectful and reverent tone when answering questions about the Bhagavad Gita.\n",
    "        Be concise: Provide clear and concise responses that address the query directly.\n",
    "        Stay focused: Ensure that your response is directly related to the Bhagavad Gita and avoids unrelated and out of context topics.\n",
    "        Answering Style: Start with \"Jai Shri Krishna\" and end with \"Jai Shri Krishna\" in your answer.\n",
    "        Out of scope: Avoid providing personal opinions or interpretations that are not supported by the text of the Gita.\n",
    "        Out of Context: Avoid providing information that is not directly related to the query or the teachings of the Gita.\n",
    "        Inaccurate Information: Avoid providing information that is inaccurate or inconsistent with the teachings of the Gita.\n",
    "        Not Sure: If you don't know the answer: Say \"Jai Shri Krishna! I'm not sure, would you like me to look it up?\"\n",
    "\n",
    "        \n",
    "question:\n",
    "{question}\n",
    "\n",
    "\"\"\""
   ]
  },
  {
   "cell_type": "code",
   "execution_count": 55,
   "metadata": {},
   "outputs": [],
   "source": [
    "new_prompt = ChatPromptTemplate([\n",
    "    prompt_template\n",
    "])"
   ]
  },
  {
   "cell_type": "code",
   "execution_count": 56,
   "metadata": {},
   "outputs": [],
   "source": [
    "rag_chain = (\n",
    "    {\"question\": RunnablePassthrough()}\n",
    "    | new_prompt\n",
    "    | model\n",
    "    | StrOutputParser()\n",
    ")"
   ]
  },
  {
   "cell_type": "code",
   "execution_count": 57,
   "metadata": {},
   "outputs": [
    {
     "data": {
      "text/plain": [
       "'Jai Shri Krishna!\\n\\nThe concept of Kṣetra-Kṣetreśvara is of paramount significance in the Bhagavad Gita. It establishes the relationship between the individual soul (Kṣetra) and the Supreme Soul (Kṣetreśvara). \\n\\nThe Bhagavad Gita explains:\\n\\n**\"You are the field, and I am the Lord of the field.\" (Chapter 13, Verse 1)  \\n\"तत् क्षेत्रं तेन तत्त्वतः कृषि  तेषु तत्क्षेत्रेश्वरं मम\"**\\n\\nHere, the \"field\" (Kṣetra) represents the body, mind, and intellect, which are the instruments of the individual soul. The \"Lord of the field\" (Kṣetreśvara) is Krishna, representing the Supreme Soul who resides within every being. \\n\\nThis concept emphasizes:\\n\\n* **The Supreme Soul\\'s omnipresence:** Krishna is not separate from the individual soul but resides within it.\\n* **The individual\\'s role as a field:** The individual is a vessel through which the Supreme Soul manifests.\\n* **The importance of surrendering to the Supreme:** Recognizing Krishna as the Kṣetreśvara leads to true knowledge and liberation.\\n\\nUnderstanding the Kṣetra-Kṣetreśvara relationship is crucial for spiritual growth. It helps us realize our true nature and connect with the divine within.\\n\\nJai Shri Krishna! \\n'"
      ]
     },
     "execution_count": 57,
     "metadata": {},
     "output_type": "execute_result"
    }
   ],
   "source": [
    "rag_chain.invoke(\n",
    "    \"What is the significance of the Kṣetra-Kṣetreśvara concept in the Bhagavad Gita?\"\n",
    ")"
   ]
  },
  {
   "cell_type": "code",
   "execution_count": null,
   "metadata": {},
   "outputs": [],
   "source": []
  },
  {
   "cell_type": "code",
   "execution_count": null,
   "metadata": {},
   "outputs": [],
   "source": [
    "st.title(\"Bhagavad Gita Chatbot\")\n",
    "st.write(\n",
    "    \"This is a chatbot that can answer questions based on the teachings of the Bhagavad Gita.\"\n",
    ")\n",
    "st.write(\"Please enter your question below and click 'Ask' to get an answer.\")\n",
    "st.write(\n",
    "    \"You can ask questions about the teachings, philosophy, and concepts of the Bhagavad Gita.\"\n",
    ")\n",
    "st.write(\n",
    "    \"For example, you can ask about the meaning of life, the purpose of human existence, the nature of the soul, etc.\"\n",
    ")\n",
    "st.write(\n",
    "    \"Please note that this chatbot is designed to provide information based on the text of the Bhagavad Gita and may not be able to answer all questions.\"\n",
    ")\n",
    "# taking input from user\n",
    "question = st.text_input(\"Enter your question here:\")\n",
    "if st.button(\"Ask\"):\n",
    "    answer = rag_chain.invoke(question)\n",
    "    st.write(answer)"
   ]
  },
  {
   "cell_type": "code",
   "execution_count": null,
   "metadata": {},
   "outputs": [],
   "source": []
  },
  {
   "cell_type": "code",
   "execution_count": 18,
   "metadata": {},
   "outputs": [],
   "source": [
    "from langchain.chains import create_retrieval_chain\n",
    "from langchain.chains.combine_documents import create_stuff_documents_chain"
   ]
  },
  {
   "cell_type": "code",
   "execution_count": 36,
   "metadata": {},
   "outputs": [],
   "source": [
    "# The purpose of create stuff documents chain is to combine the documents into a single document to give the context to the model\n",
    "document_chain = create_stuff_documents_chain(model,prompt=new_prompt)"
   ]
  },
  {
   "cell_type": "code",
   "execution_count": 42,
   "metadata": {},
   "outputs": [
    {
     "data": {
      "text/plain": [
       "RunnableBinding(bound=RunnableBinding(bound=RunnableAssign(mapper={\n",
       "  context: RunnableLambda(format_docs)\n",
       "}), config={'run_name': 'format_inputs'})\n",
       "| ChatPromptTemplate(input_variables=['context'], messages=[HumanMessagePromptTemplate(prompt=PromptTemplate(input_variables=['context'], template='\\nPrompt:\\n\\n    Task: Answer questions based on the Bhagavad Gita teachings.\\n\\n    Instructions:\\n\\n        Retrieve relevant information: Search the Bhagavad Gita for passages that are most relevant to the query.\\n        Summarize key points: Extract the main ideas and concepts from the retrieved passages.\\n        Generate a comprehensive response: Combine the summarized information with the query to create a coherent and informative answer.\\n        Mention references: Clearly indicate the chapter and verse numbers from which the information is extracted.\\n        Mention Sholkas: Clearly include relevant shlokas from the Gita to support your response.\\n        Provide accurate information: Ensure that the information provided is accurate and consistent with the teachings of the Gita.\\n        Translate: Provide translations of the shlokas in Hindi to help explain their meaning.\\n\\n\\n    Guidelines:\\n\\n        Stay true to the text: Ensure that your responses are consistent with the teachings of the Bhagavad Gita.\\n        Provide context: If applicable, provide additional context from the Gita to support your answer.\\n        Be respectful: Maintain a respectful and reverent tone when answering questions about the Bhagavad Gita.\\n        Be concise: Provide clear and concise responses that address the query directly.\\n        Stay focused: Ensure that your response is directly related to the Bhagavad Gita and avoids unrelated and out of context topics.\\n        Answering Style: Start with \"Jai Shri Krishna\" and end with \"Jai Shri Krishna\" in your answer.\\n        Out of scope: Avoid providing personal opinions or interpretations that are not supported by the text of the Gita.\\n        Out of Context: Avoid providing information that is not directly related to the query or the teachings of the Gita.\\n        Inaccurate Information: Avoid providing information that is inaccurate or inconsistent with the teachings of the Gita.\\n        Not Sure: If you don\\'t know the answer: Say \"Jai Shri Krishna! I\\'m not sure, would you like me to look it up?\"\\n\\n    \\n\\nContext:\\n\\n{context}\\n\\n'))])\n",
       "| ChatGroq(client=<groq.resources.chat.completions.Completions object at 0x7fb37f3ab340>, async_client=<groq.resources.chat.completions.AsyncCompletions object at 0x7fb37f3abeb0>, model_name='gemma2-9b-it', groq_api_key=SecretStr('**********'), max_tokens=4050)\n",
       "| StrOutputParser(), config={'run_name': 'stuff_documents_chain'})"
      ]
     },
     "execution_count": 42,
     "metadata": {},
     "output_type": "execute_result"
    }
   ],
   "source": [
    "document_chain"
   ]
  },
  {
   "cell_type": "code",
   "execution_count": 38,
   "metadata": {},
   "outputs": [],
   "source": [
    "retrieval_chain = create_retrieval_chain(retriever,document_chain)"
   ]
  },
  {
   "cell_type": "code",
   "execution_count": 39,
   "metadata": {},
   "outputs": [
    {
     "data": {
      "text/plain": [
       "RunnableBinding(bound=RunnableAssign(mapper={\n",
       "  context: RunnableBinding(bound=RunnableLambda(lambda x: x['input'])\n",
       "           | VectorStoreRetriever(tags=['FAISS', 'OllamaEmbeddings'], vectorstore=<langchain_community.vectorstores.faiss.FAISS object at 0x7fb374bfc8e0>), config={'run_name': 'retrieve_documents'})\n",
       "})\n",
       "| RunnableAssign(mapper={\n",
       "    answer: RunnableBinding(bound=RunnableBinding(bound=RunnableAssign(mapper={\n",
       "              context: RunnableLambda(format_docs)\n",
       "            }), config={'run_name': 'format_inputs'})\n",
       "            | ChatPromptTemplate(input_variables=['context'], messages=[HumanMessagePromptTemplate(prompt=PromptTemplate(input_variables=['context'], template='\\nPrompt:\\n\\n    Task: Answer questions based on the Bhagavad Gita teachings.\\n\\n    Instructions:\\n\\n        Retrieve relevant information: Search the Bhagavad Gita for passages that are most relevant to the query.\\n        Summarize key points: Extract the main ideas and concepts from the retrieved passages.\\n        Generate a comprehensive response: Combine the summarized information with the query to create a coherent and informative answer.\\n        Mention references: Clearly indicate the chapter and verse numbers from which the information is extracted.\\n        Mention Sholkas: Clearly include relevant shlokas from the Gita to support your response.\\n        Provide accurate information: Ensure that the information provided is accurate and consistent with the teachings of the Gita.\\n        Translate: Provide translations of the shlokas in Hindi to help explain their meaning.\\n\\n\\n    Guidelines:\\n\\n        Stay true to the text: Ensure that your responses are consistent with the teachings of the Bhagavad Gita.\\n        Provide context: If applicable, provide additional context from the Gita to support your answer.\\n        Be respectful: Maintain a respectful and reverent tone when answering questions about the Bhagavad Gita.\\n        Be concise: Provide clear and concise responses that address the query directly.\\n        Stay focused: Ensure that your response is directly related to the Bhagavad Gita and avoids unrelated and out of context topics.\\n        Answering Style: Start with \"Jai Shri Krishna\" and end with \"Jai Shri Krishna\" in your answer.\\n        Out of scope: Avoid providing personal opinions or interpretations that are not supported by the text of the Gita.\\n        Out of Context: Avoid providing information that is not directly related to the query or the teachings of the Gita.\\n        Inaccurate Information: Avoid providing information that is inaccurate or inconsistent with the teachings of the Gita.\\n        Not Sure: If you don\\'t know the answer: Say \"Jai Shri Krishna! I\\'m not sure, would you like me to look it up?\"\\n\\n    \\n\\nContext:\\n\\n{context}\\n\\n'))])\n",
       "            | ChatGroq(client=<groq.resources.chat.completions.Completions object at 0x7fb37f3ab340>, async_client=<groq.resources.chat.completions.AsyncCompletions object at 0x7fb37f3abeb0>, model_name='gemma2-9b-it', groq_api_key=SecretStr('**********'), max_tokens=4050)\n",
       "            | StrOutputParser(), config={'run_name': 'stuff_documents_chain'})\n",
       "  }), config={'run_name': 'retrieval_chain'})"
      ]
     },
     "execution_count": 39,
     "metadata": {},
     "output_type": "execute_result"
    }
   ],
   "source": [
    "retrieval_chain"
   ]
  },
  {
   "cell_type": "code",
   "execution_count": 41,
   "metadata": {},
   "outputs": [
    {
     "data": {
      "text/plain": [
       "'Jai Shri Krishna \\n\\nThe provided text discusses the nature of the soul and its relationship to the material world. \\n\\nIt emphasizes the eternal and unchanging nature of the soul, distinct from the changing body. Just as a tree sheds its leaves but remains, the soul transcends the limitations of the physical form. The soul is described as  \"jīva-bhūtaḥ sanātanaḥ\" (eternal living entity) and is full of consciousness. However, this consciousness is often obscured by material attachments.\\n\\nThe text also highlights the importance of spiritual guidance, stating that true knowledge of the soul and its liberation can be attained through the disciplic succession. It refers to  \"evaṁ paramparā-prāptam imaṁ rājarṣayo viduḥ\" (This Bhagavad-gītā As It Is is received through this disciplic succession), emphasizing the need to learn from qualified teachers.\\n\\nThe passage concludes by explaining that  \"tad viddhi praṇipātena paripraśnena sevayā upadekṣyanti te jñānam jñāninas tattva-darśinaḥ\" (Try to understand that knowledge of different sacrifices by approaching a spiritual master, by submissive inquiries, and by rendering service. In that way, the self-realized will divulge that knowledge to you).  This signifies that seeking knowledge from a realized guru and engaging in selfless service are crucial for spiritual advancement.\\n\\nJai Shri Krishna \\n'"
      ]
     },
     "execution_count": 41,
     "metadata": {},
     "output_type": "execute_result"
    }
   ],
   "source": [
    "response = retrieval_chain.invoke({\"input\":\"What is the meaning of life?\"})\n",
    "response['answer']"
   ]
  },
  {
   "cell_type": "code",
   "execution_count": 25,
   "metadata": {},
   "outputs": [
    {
     "data": {
      "text/plain": [
       "'Jai Shri Krishna!\\n\\nThe Bhagavad Gita presents two primary paths to liberation: Jñana Yoga (Yoga of Knowledge) and Karma Yoga (Yoga of Action). \\n\\n**Jñana Yoga (Yoga of Knowledge)**\\n\\nJñana Yoga emphasizes the pursuit of knowledge and wisdom about the true nature of reality, culminating in the realization of the Self (Atman) as identical to the Supreme Brahman. \\n\\n* **Key Principles:**\\n    * **Discrimination (Viveka):** Distinguishing between the permanent (Atman) and the impermanent (material world).\\n    * **Self-Study (Swadhyaya):** Deep introspection and study of scriptures to understand the Self and Brahman.\\n    * **Meditation (Dhyana):** Concentrating the mind on the object of knowledge, ultimately leading to a state of pure consciousness.\\n    * **Surrender (Sharanagati):**  Complete surrender to the Divine will, trusting in the guidance of a spiritual master.\\n\\n* **Bhagavad Gita Verses:**\\n    * **Chapter 4, Verse 34:**  \"yoga-siddhiṁ  śrimad-bhagavān  u-vacāḥ  \\n    * **janma karma  me  divyam idam  bhagavad-gītāṁ\\n    *  śṛṇu  bharata  \\n    *  śāstram  \\n    *  yathā  \\n    *  kālanā  \\n    *  śaiva\"\\n\\n* **Translation:**\\n    * The Supreme Lord said: \"O Bharata, hear now the divine essence of the Bhagavad Gita, which is the most confidential knowledge. This wisdom is revealed to you at the right time.\"\\n\\n\\n\\n**Karma Yoga (Yoga of Action)**\\n\\nKarma Yoga focuses on selfless action performed without attachment to the results. It emphasizes equanimity in action, dedication to duty, and working for the greater good.\\n\\n* **Key Principles:**\\n    * **Nishkama Karma:** Performing actions without desire for personal gain or reward.\\n    * **Dharma:** Following one\\'s duty and righteous conduct.\\n    * **Equanimity (Sama):** Maintaining a balanced and detached state of mind, regardless of the outcome of actions.\\n    * **Selfless Service (Seva):** Working for the welfare of others without expectation of anything in return.\\n\\n* **Bhagavad Gita Verses:**\\n    * **Chapter 2, Verse 47:** \"sarvadharman  parityajya  \\n    * mamekam  śaranam  vraja  \\n    * ahaṁ  tvām  sarva-pāpebhyo  moṣayishyāmi  \\n    * mā  śu château  \\n    *  dveshaḥ\"\\n\\n* **Translation:** \"Abandon all varieties of religion and just surrender unto Me. I shall deliver you from all sinful reactions. Do not fear.\"\\n\\n**Relationship between Jñana Yoga and Karma Yoga:**\\n\\nAlthough presented as distinct paths, Jñana Yoga and Karma Yoga are interconnected and complementary.  \\n\\n* Karma Yoga can purify the mind and create the necessary clarity for Jñana Yoga to progress.\\n* Jñana Yoga provides the understanding and wisdom to perform Karma Yoga in a selfless and detached manner.\\n\\nUltimately, both paths lead to the same goal: liberation from the cycle of birth and death and realization of the Self.\\n\\nJai Shri Krishna!\\n'"
      ]
     },
     "execution_count": 25,
     "metadata": {},
     "output_type": "execute_result"
    }
   ],
   "source": [
    "document_chain.invoke(\n",
    "    {\n",
    "        \"context\": retriever.invoke(\n",
    "            \"Explain the Yoga of Knowledge (Jñāna Yoga) and Yoga of Action (Karma Yoga) as presented in the Gita.\"\n",
    "        ),\n",
    "        \"question\": \"Explain the Yoga of Knowledge (Jñāna Yoga) and Yoga of Action (Karma Yoga) as presented in the Gita.\",\n",
    "    }\n",
    ")"
   ]
  },
  {
   "cell_type": "code",
   "execution_count": 89,
   "metadata": {},
   "outputs": [],
   "source": [
    "def loading_models():\n",
    "    return ChatGroq(model=\"gemma2-9b-it\"), OllamaEmbeddings(model=\"gemma2:9b\")"
   ]
  },
  {
   "cell_type": "code",
   "execution_count": 92,
   "metadata": {},
   "outputs": [],
   "source": [
    "model, embeddings = loading_models()[0], loading_models()[1]"
   ]
  },
  {
   "cell_type": "code",
   "execution_count": 94,
   "metadata": {},
   "outputs": [
    {
     "data": {
      "text/plain": [
       "OllamaEmbeddings(model='gemma2:9b', base_url=None, client_kwargs={}, _client=<ollama._client.Client object at 0x7f742c32cfd0>, _async_client=<ollama._client.AsyncClient object at 0x7f742c32cfa0>)"
      ]
     },
     "execution_count": 94,
     "metadata": {},
     "output_type": "execute_result"
    }
   ],
   "source": [
    "embeddings"
   ]
  },
  {
   "cell_type": "code",
   "execution_count": 51,
   "metadata": {},
   "outputs": [
    {
     "data": {
      "text/plain": [
       "AIMessage(content=\"As a large language model, I don't have personal beliefs or experiences to draw on, so I can't tell you the meaning of life. That's a deeply philosophical question that humans have been pondering for centuries.\\n\\nThere isn't one answer that will satisfy everyone, as the meaning of life is often unique to each individual.\\n\\nHowever, I can offer you some perspectives:\\n\\n* **Finding Purpose:** Many people find meaning in pursuing goals, contributing to society, or making a difference in the world.\\n* **Connecting with Others:** Relationships with loved ones, friends, and community can provide a sense of belonging and purpose.\\n* **Experiencing the World:** Some find meaning in exploring new places, learning new things, and appreciating the beauty around them.\\n* **Personal Growth:** The journey of self-discovery and personal growth can be a meaningful pursuit in itself.\\n* **Creating Something:** Whether it's art, music, writing, or simply a kind act, creating something new can give life meaning.\\n\\nUltimately, the meaning of life is what you make it. It's up to each individual to explore different possibilities and find what gives their life purpose and fulfillment.\\n\", response_metadata={'token_usage': {'completion_tokens': 248, 'prompt_tokens': 16, 'total_tokens': 264, 'completion_time': 0.450909091, 'prompt_time': 8.1599e-05, 'queue_time': 0.014909201, 'total_time': 0.45099069}, 'model_name': 'gemma2-9b-it', 'system_fingerprint': 'fp_10c08bf97d', 'finish_reason': 'stop', 'logprobs': None}, id='run-f340da61-d45c-499d-a376-f006fb597d26-0', usage_metadata={'input_tokens': 16, 'output_tokens': 248, 'total_tokens': 264})"
      ]
     },
     "execution_count": 51,
     "metadata": {},
     "output_type": "execute_result"
    }
   ],
   "source": []
  },
  {
   "cell_type": "code",
   "execution_count": null,
   "metadata": {},
   "outputs": [],
   "source": []
  }
 ],
 "metadata": {
  "kernelspec": {
   "display_name": "geetagpt",
   "language": "python",
   "name": "python3"
  },
  "language_info": {
   "codemirror_mode": {
    "name": "ipython",
    "version": 3
   },
   "file_extension": ".py",
   "mimetype": "text/x-python",
   "name": "python",
   "nbconvert_exporter": "python",
   "pygments_lexer": "ipython3",
   "version": "3.10.14"
  }
 },
 "nbformat": 4,
 "nbformat_minor": 2
}
